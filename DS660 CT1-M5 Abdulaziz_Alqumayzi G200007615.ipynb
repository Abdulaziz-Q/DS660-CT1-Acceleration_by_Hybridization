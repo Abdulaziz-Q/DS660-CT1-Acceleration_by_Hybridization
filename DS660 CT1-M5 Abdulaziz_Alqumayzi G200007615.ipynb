{
 "cells": [
  {
   "cell_type": "markdown",
   "id": "a379c86c",
   "metadata": {},
   "source": [
    "Consider deep networks with numerous layers to gain an understanding of how hybridization works. Let's have a look as how we can handle this for substantial chunks of the code by replacing get net() with tf.function (). To begin, we define a basic MLP."
   ]
  },
  {
   "cell_type": "code",
   "execution_count": 20,
   "id": "fe2eab9e",
   "metadata": {},
   "outputs": [],
   "source": [
    "import tensorflow as tf\n",
    "from tensorflow.keras.layers import Dense\n",
    "from d2l import tensorflow as d2l\n",
    "\n",
    "def get_net():\n",
    "    net = tf.keras.Sequential()\n",
    "    net.add(Dense(256, input_shape = (512,), activation = \"relu\"))\n",
    "    net.add(Dense(128, activation = \"relu\"))\n",
    "    net.add(Dense(2, activation = \"linear\"))\n",
    "    return net"
   ]
  },
  {
   "cell_type": "markdown",
   "id": "9472dd9c",
   "metadata": {},
   "source": [
    "To demonstrate the performance improvement gained by compilation we compare the time needed to evaluate net(x) before and after hybridization. Let us define a class to measure this time first. "
   ]
  },
  {
   "cell_type": "code",
   "execution_count": 21,
   "id": "1d972074",
   "metadata": {},
   "outputs": [
    {
     "name": "stdout",
     "output_type": "stream",
     "text": [
      "Eager Mode: 0.8230 sec\n",
      "Graph Mode: 0.3731 sec\n"
     ]
    }
   ],
   "source": [
    "class Benchmark:\n",
    "    \"\"\"For measuring running time.\"\"\"\n",
    "    def __init__(self, description='Done'):\n",
    "        self.description = description\n",
    "\n",
    "    def __enter__(self):\n",
    "        self.timer = d2l.Timer()\n",
    "        return self\n",
    "\n",
    "    def __exit__(self, *args):\n",
    "        print(f'{self.description}: {self.timer.stop():.4f} sec')\n",
    "        \n",
    "net = get_net()\n",
    "with Benchmark('Eager Mode'):\n",
    "    for i in range(1000): net(x)\n",
    "\n",
    "net = tf.function(net)\n",
    "with Benchmark('Graph Mode'):\n",
    "    for i in range(1000): net(x)"
   ]
  }
 ],
 "metadata": {
  "kernelspec": {
   "display_name": "Python 3 (ipykernel)",
   "language": "python",
   "name": "python3"
  },
  "language_info": {
   "codemirror_mode": {
    "name": "ipython",
    "version": 3
   },
   "file_extension": ".py",
   "mimetype": "text/x-python",
   "name": "python",
   "nbconvert_exporter": "python",
   "pygments_lexer": "ipython3",
   "version": "3.9.7"
  }
 },
 "nbformat": 4,
 "nbformat_minor": 5
}
